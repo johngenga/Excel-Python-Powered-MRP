{
 "cells": [
  {
   "cell_type": "code",
   "execution_count": 21,
   "id": "650f9bd0-e31b-4cd6-88e5-9c55cc220d0c",
   "metadata": {},
   "outputs": [],
   "source": [
    "\"\"\"\n",
    "\n",
    "MRP development stages\n",
    "\n",
    "\"\"\"\n",
    "# Collecting from the Centralizing data processing stage.\n",
    "\"\"\" \n",
    "\n",
    "In this section we are centralizing testing code before deployment by testing and decoding the various steps.\n",
    "\"\"\"\n",
    "import pandas as pd\n",
    "import os\n",
    "def prepare_sales_data(file_path):\n",
    "    # Load the sales data\n",
    "    df = pd.read_csv(file_path)\n",
    "    df = pd.melt(df,id_vars=['Product Code', 'Product Name'], var_name='Date', value_name='Sales')\n",
    "    # Example data preparation steps\n",
    "    # Convert date columns to periods\n",
    "    df['Date'] = pd.to_datetime(df['Date'])\n",
    "        \n",
    "    # Potentially other preprocessing like filling missing values, etc.\n",
    "    # df = ...\n",
    "\n",
    "    return df"
   ]
  },
  {
   "cell_type": "code",
   "execution_count": 47,
   "id": "c794bd65-ee6c-4bdb-a07c-d06301a9834b",
   "metadata": {},
   "outputs": [],
   "source": [
    "# Initialize the resulting dataframe for cumulative inventory\n",
    "cumulative_inventory = pd.DataFrame()\n",
    "# Process each product\n",
    "for product in sales_forecast.index.get_level_values('Product Code').unique():\n",
    "    # Get the forecast sales and inventory for the current product\n",
    "    forecast = sales_forecast.loc[product]\n",
    "    inventory = finished_goods_inventory.loc[product]\n",
    "\n",
    "\n",
    "\n",
    "\n",
    "\n",
    "\n",
    "\n",
    "    \n"
   ]
  },
  {
   "cell_type": "code",
   "execution_count": 63,
   "id": "47637682-1043-46be-b7ff-ea5c6f05c020",
   "metadata": {},
   "outputs": [
    {
     "ename": "NameError",
     "evalue": "name 'Date' is not defined",
     "output_type": "error",
     "traceback": [
      "\u001b[1;31m---------------------------------------------------------------------------\u001b[0m",
      "\u001b[1;31mNameError\u001b[0m                                 Traceback (most recent call last)",
      "Cell \u001b[1;32mIn[63], line 13\u001b[0m\n\u001b[0;32m     11\u001b[0m \u001b[38;5;66;03m# Iterate over the dates (columns) in the sales data and update inventory\u001b[39;00m\n\u001b[0;32m     12\u001b[0m \u001b[38;5;28;01mfor\u001b[39;00m date \u001b[38;5;129;01min\u001b[39;00m sales_data\u001b[38;5;241m.\u001b[39mcolumns[\u001b[38;5;241m1\u001b[39m:]:  \u001b[38;5;66;03m# Start from the second column (assuming the first is the starting date)\u001b[39;00m\n\u001b[1;32m---> 13\u001b[0m     inventory_df[Date] \u001b[38;5;241m=\u001b[39m inventory_df[\u001b[43mDate\u001b[49m \u001b[38;5;241m-\u001b[39m \u001b[38;5;241m1\u001b[39m] \u001b[38;5;241m-\u001b[39m sales_data[Date]\n\u001b[0;32m     15\u001b[0m \u001b[38;5;66;03m# Display the inventory DataFrame\u001b[39;00m\n\u001b[0;32m     16\u001b[0m \u001b[38;5;28mprint\u001b[39m(inventory_df)\n",
      "\u001b[1;31mNameError\u001b[0m: name 'Date' is not defined"
     ]
    }
   ],
   "source": [
    "\n",
    "sales_data = pd.read_csv(os.path.join(\"data\", \"forecast.csv\"), index_col=0)\n",
    "stock_data = pd.read_csv(os.path.join(\"data\", \"finished_goods_inventory.csv\"), index_col=0)\n",
    "\n",
    "# Get the starting date from the first column of sales data\n",
    "start_date = sales_data.columns[0]\n",
    "\n",
    "# Create a DataFrame with the starting date and initial stock\n",
    "inventory_df = pd.DataFrame(index=stock_data.index, columns=[start_date])\n",
    "inventory_df[start_date] = stock_data['Quantity']\n",
    "\n",
    "# Iterate over the dates (columns) in the sales data and update inventory\n",
    "for date in sales_data.columns[1:]:  # Start from the second column (assuming the first is the starting date)\n",
    "    inventory_df[Date] = inventory_df[Date - 1] - sales_data[Date]\n",
    "\n",
    "# Display the inventory DataFrame\n",
    "print(inventory_df)\n",
    " \n"
   ]
  },
  {
   "cell_type": "code",
   "execution_count": null,
   "id": "6b2b1c4e-c74a-4d55-99ac-8723b06ec4ef",
   "metadata": {},
   "outputs": [],
   "source": []
  }
 ],
 "metadata": {
  "kernelspec": {
   "display_name": "Python 3 (ipykernel)",
   "language": "python",
   "name": "python3"
  },
  "language_info": {
   "codemirror_mode": {
    "name": "ipython",
    "version": 3
   },
   "file_extension": ".py",
   "mimetype": "text/x-python",
   "name": "python",
   "nbconvert_exporter": "python",
   "pygments_lexer": "ipython3",
   "version": "3.12.1"
  }
 },
 "nbformat": 4,
 "nbformat_minor": 5
}
